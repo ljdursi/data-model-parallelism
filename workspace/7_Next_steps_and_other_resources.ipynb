{
 "cells": [
  {
   "cell_type": "markdown",
   "id": "0be144bc",
   "metadata": {},
   "source": [
    "# Next Steps and Other Resources"
   ]
  }
 ],
 "metadata": {
  "language_info": {
   "name": "python"
  }
 },
 "nbformat": 4,
 "nbformat_minor": 5
}
