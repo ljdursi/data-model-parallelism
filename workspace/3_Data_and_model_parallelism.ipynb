{
 "cells": [
  {
   "cell_type": "markdown",
   "id": "34594f3d",
   "metadata": {},
   "source": [
    "# Data and Model Parallelism in PyTorch"
   ]
  },
  {
   "cell_type": "markdown",
   "id": "731b256f",
   "metadata": {},
   "source": [
    "![Single GPU training data flow](images/single-gpu-training.png)"
   ]
  },
  {
   "cell_type": "markdown",
   "id": "a7855485",
   "metadata": {},
   "source": [
    "![Data and model parallelism approaches differ in how they take advantage of multiple GPUs](images/parallelisms.png)"
   ]
  },
  {
   "cell_type": "markdown",
   "id": "71c6b4f2",
   "metadata": {},
   "source": [
    "| Operation | Estimated Time for 100 kB | Time (microseconds) | Relative to moving data to/from global memory |\n",
    "| --- | --- | --- | --- |\n",
    "| Simple scalar computation\t |  | 0.005\t| 0.01 |\n",
    "| Move data to global memory on the same GPU\t|  0.75 µs\t| 0.75\t| 1.00 |\n",
    "| Move data to another GPU on the same NVLINK domain | 2.5 µs\t| 2.5 | 3.50 |\n",
    "| Move data to CPU memory over PCIe\t| 10 µs\t| 10 |\t13.0 |\n",
    "| Move data to another GPU on another node over Infiniband\t| 1 ms\t| 1000\t| 1,300 |\n",
    "| Move data to a ocal SSD filesystem | 30 ms\t| 33500\t| 45,000 |\n",
    "| Move data to a networked filesystem |\t80 ms\t| 85000\t| 110,000 |"
   ]
  }
 ],
 "metadata": {
  "language_info": {
   "name": "python"
  }
 },
 "nbformat": 4,
 "nbformat_minor": 5
}
