{
 "cells": [
  {
   "cell_type": "markdown",
   "id": "34594f3d",
   "metadata": {},
   "source": [
    "# Data and Model Parallelism in PyTorch"
   ]
  }
 ],
 "metadata": {
  "language_info": {
   "name": "python"
  }
 },
 "nbformat": 4,
 "nbformat_minor": 5
}
