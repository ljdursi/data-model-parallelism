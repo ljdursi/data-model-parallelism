{
 "cells": [
  {
   "cell_type": "markdown",
   "id": "9c5c335a",
   "metadata": {},
   "source": [
    "# Distributed Data Parallelism with PyTorch"
   ]
  },
  {
   "cell_type": "markdown",
   "id": "e6fc594d",
   "metadata": {},
   "source": [
    "## Simple example - from [PyTorch documentation](https://pytorch.org/tutorials/intermediate/ddp_tutorial.html)\n"
   ]
  }
 ],
 "metadata": {
  "language_info": {
   "name": "python"
  }
 },
 "nbformat": 4,
 "nbformat_minor": 5
}
